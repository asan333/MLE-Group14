{
 "cells": [
  {
   "cell_type": "code",
   "execution_count": 75,
   "id": "de6fe61d-6436-4af1-98aa-c11b839eddbe",
   "metadata": {},
   "outputs": [],
   "source": [
    "import os\n",
    "import cv2\n",
    "import numpy as np\n",
    "import json\n",
    "import shutil\n",
    "from tqdm import tqdm\n",
    "from PIL import Image\n",
    "from sklearn.model_selection import train_test_split"
   ]
  },
  {
   "cell_type": "code",
   "execution_count": 76,
   "id": "58f4e2e6-950b-4039-9319-8e5e1f96868e",
   "metadata": {},
   "outputs": [
    {
     "data": {
      "text/plain": [
       "['00071198d059ba7f5914a526d124d28e6d010c92466da21d4a04cd5413362552',\n",
       " '003cee89357d9fe13516167fd67b609a164651b21934585648c740d2c3d86dc1',\n",
       " '00ae65c1c6631ae6f2be1a449902976e6eb8483bf6b0740d00530220832c6d3e',\n",
       " '0121d6759c5adb290c8e828fc882f37dfaf3663ec885c663859948c154a443ed',\n",
       " '01d44a26f6680c42ba94c9bc6339228579a95d0e2695b149b7cc0c9592b21baf']"
      ]
     },
     "execution_count": 76,
     "metadata": {},
     "output_type": "execute_result"
    }
   ],
   "source": [
    "FOLDER_PATH = \"./train/\"\n",
    "image_ids = next(os.walk(FOLDER_PATH))[1]\n",
    "image_ids[:5]"
   ]
  },
  {
   "cell_type": "code",
   "execution_count": 77,
   "id": "f97cdbab-4c93-4b1a-a2e6-355fafa81db5",
   "metadata": {},
   "outputs": [
    {
     "name": "stderr",
     "output_type": "stream",
     "text": [
      "100%|██████████████████████████████████████████████████████████████████████████████| 670/670 [00:00<00:00, 4496.65it/s]\n"
     ]
    },
    {
     "data": {
      "text/plain": [
       "['07a9bf1d7594af2763c86e93f05d22c4d5181353c6d3ab30a345b908ffe5aadc',\n",
       " '0e548d0af63ab451616f082eb56bde13eb71f73dfda92a03fbe88ad42ebb4881',\n",
       " '0ea1f9e30124e4aef1407af239ff42fd6f5753c09b4c5cac5d08023c328d7f05',\n",
       " '0f5a3252d05ecdf453bdd5e6ad5322c454d8ec2d13ef0f0bf45a6f6db45b5639',\n",
       " '2c47735510ef91a11fde42b317829cee5fc04d05a797b90008803d7151951d58']"
      ]
     },
     "execution_count": 77,
     "metadata": {},
     "output_type": "execute_result"
    }
   ],
   "source": [
    "def get_image_mask_pairs(data_dir):\n",
    "    image_paths = []\n",
    "    mask_paths = []\n",
    "    # train_ids = next(os.walk(data_dir))[1]\n",
    "    mask_ids = []\n",
    "    \n",
    "    for n, id_ in tqdm(enumerate(image_ids), total=len(image_ids)):\n",
    "        path = data_dir + id_\n",
    "        image_paths.append(path + '/images/' + id_ + '.png')\n",
    "        for mask_file in next(os.walk(path + '/masks/'))[2]:\n",
    "            mask_paths.append(path + '/masks/' + mask_file)\n",
    "            mask_ids.append(mask_file[:-4])\n",
    "    \n",
    "\n",
    "    return image_paths, mask_paths, mask_ids\n",
    "\n",
    "image_paths, mask_paths, mask_ids = get_image_mask_pairs(FOLDER_PATH)\n",
    "mask_ids[:5]"
   ]
  },
  {
   "cell_type": "code",
   "execution_count": 78,
   "id": "f0103fad-5c52-455f-bd2b-656a8c15c3e0",
   "metadata": {},
   "outputs": [],
   "source": [
    "def mask_to_polygons(mask, epsilon=1.0):\n",
    "    contours, _ = cv2.findContours(mask, cv2.RETR_TREE, cv2.CHAIN_APPROX_SIMPLE)\n",
    "    polygons = []\n",
    "    for contour in contours:\n",
    "        if len(contour) > 2:\n",
    "            poly = contour.reshape(-1).tolist()\n",
    "            if len(poly) > 4:  # Ensure valid polygon\n",
    "                polygons.append(poly)\n",
    "    return polygons"
   ]
  },
  {
   "cell_type": "code",
   "execution_count": 79,
   "id": "784c1a0e-e0d2-41ef-8868-c157ea1b6d53",
   "metadata": {},
   "outputs": [],
   "source": [
    "coco_output = {\n",
    "        \"images\": [],\n",
    "        \"annotations\": [],\n",
    "        \"categories\": [{\"id\": 1, \"name\": \"Nuclei\"}]\n",
    "    }"
   ]
  },
  {
   "cell_type": "code",
   "execution_count": 80,
   "id": "494fd8df-adeb-47be-86aa-ea1e455457c9",
   "metadata": {},
   "outputs": [],
   "source": [
    "# image_id = 0\n",
    "# annotation_id = 0\n",
    "\n",
    "annotations = []\n",
    "images = []"
   ]
  },
  {
   "cell_type": "code",
   "execution_count": 82,
   "id": "75230f00-d7fc-4f4f-87b9-743dde42d74a",
   "metadata": {},
   "outputs": [],
   "source": [
    "# for img_path, mask_path in zip(image_paths, mask_paths):\n",
    "for img_path, image_id in zip(image_paths , image_ids):\n",
    "    image_id = image_id\n",
    "    img = cv2.imread(img_path)\n",
    "    # mask = cv2.imread(mask_path, cv2.IMREAD_UNCHANGED)\n",
    "\n",
    "    images.append({\n",
    "            \"id\": image_id,\n",
    "            \"file_name\": os.path.basename(img_path),\n",
    "            \"height\": img.shape[0],\n",
    "            \"width\": img.shape[1]\n",
    "        })\n",
    "\n",
    "    masks_folder = FOLDER_PATH + image_id + '/masks/'\n",
    "    mask_filenames = [f for f in os.listdir(masks_folder)]\n",
    "    for mask_filename in mask_filenames:\n",
    "            mask_path = os.path.join(masks_folder, mask_filename)\n",
    "            mask = Image.open(mask_path)\n",
    "            mask_data = np.array(mask)\n",
    "            unique_labels = np.unique(mask_data)\n",
    "            annotation_id = mask_filename[:-4]\n",
    "\n",
    "            for label in unique_labels:\n",
    "                if label != 0:\n",
    "                    # Create the annotation for the current mask\n",
    "                    segmentations = []\n",
    "                    contours, _ = cv2.findContours((mask_data == label).astype(np.uint8), cv2.RETR_TREE, cv2.CHAIN_APPROX_SIMPLE)\n",
    "                    for contour in contours:\n",
    "                        if len(contour) > 2:\n",
    "                            seg = contour.reshape(-1).tolist()\n",
    "                            if len(seg) > 4:  # Ensure valid polygon\n",
    "                                segmentations.append(seg)\n",
    "\n",
    "                    \n",
    "                    \n",
    "                    # polygons = []\n",
    "                    # for contour in contours:\n",
    "                    #     if len(contour) > 2:\n",
    "                    #         segmentation = contour.reshape(-1).tolist()\n",
    "                    #         if len(segmentation) > 4:\n",
    "                    #             polygons.append(poly)\n",
    "                        # segmentation.extend(contour.flatten().tolist())\n",
    "                    for segmentation in segmentations:\n",
    "                        annotations.append({\n",
    "                            \"id\": annotation_id,\n",
    "                            \"image_id\": image_id,\n",
    "                            \"category_id\": 1,\n",
    "                            \"segmentation\": [segmentation],\n",
    "                            \"area\": cv2.contourArea(np.array(segmentation).reshape(-1, 2)),\n",
    "                            \"bbox\": list(cv2.boundingRect(np.array(segmentation).reshape(-1, 2))),\n",
    "                            \"iscrowd\": 0\n",
    "                        })\n",
    "                        # annotation_id += 1\n",
    "coco_output = {\n",
    "        \"images\": images,\n",
    "        \"annotations\": annotations,\n",
    "        \"categories\": [{\"id\": 1, \"name\": \"Nuclei\"}]\n",
    "    }     \n",
    "    "
   ]
  },
  {
   "cell_type": "code",
   "execution_count": null,
   "id": "b71b861f-35be-40c0-b8bf-d3f9c1e40bc8",
   "metadata": {},
   "outputs": [],
   "source": []
  },
  {
   "cell_type": "code",
   "execution_count": 87,
   "id": "e3a0bc91-c258-4187-b04e-108ebea30e00",
   "metadata": {},
   "outputs": [],
   "source": [
    "with open('coco_annotations.json', 'w') as f:\n",
    "    json.dump(coco_output, f, indent=2)"
   ]
  },
  {
   "cell_type": "code",
   "execution_count": 89,
   "id": "fdf8b310-6df3-4b35-8b39-27e5252780d4",
   "metadata": {},
   "outputs": [],
   "source": [
    "output_dir = \"./just_images/\" \n",
    "for img_path, in zip(image_paths):        \n",
    "        # Copy image to output directory\n",
    "        shutil.copy(img_path, os.path.join(output_dir, os.path.basename(img_path)))"
   ]
  },
  {
   "cell_type": "code",
   "execution_count": null,
   "id": "47cd2cf5-dddc-482e-8d36-ac6855871bd5",
   "metadata": {},
   "outputs": [],
   "source": []
  }
 ],
 "metadata": {
  "kernelspec": {
   "display_name": "Python 3 (ipykernel)",
   "language": "python",
   "name": "python3"
  },
  "language_info": {
   "codemirror_mode": {
    "name": "ipython",
    "version": 3
   },
   "file_extension": ".py",
   "mimetype": "text/x-python",
   "name": "python",
   "nbconvert_exporter": "python",
   "pygments_lexer": "ipython3",
   "version": "3.10.14"
  }
 },
 "nbformat": 4,
 "nbformat_minor": 5
}
